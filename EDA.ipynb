{
 "cells": [
  {
   "cell_type": "code",
   "execution_count": null,
   "metadata": {},
   "outputs": [],
   "source": [
    "#C:\\Users\\eduen\\AppData\\Local\\Temp\\Diccionario de Datos STEAM.xlsx\n",
    "#C:\\Users\\eduen\\AppData\\Local\\Temp\\steam_games.json.gz\n",
    "#C:\\Users\\eduen\\AppData\\Local\\Temp\\user_reviews.json.gz\n",
    "#C:\\Users\\eduen\\AppData\\Local\\Temp\\users_items.json.gz"
   ]
  }
 ],
 "metadata": {
  "language_info": {
   "name": "python"
  },
  "orig_nbformat": 4
 },
 "nbformat": 4,
 "nbformat_minor": 2
}
