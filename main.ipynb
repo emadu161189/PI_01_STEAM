{
 "cells": [
  {
   "cell_type": "code",
   "execution_count": 4,
   "metadata": {},
   "outputs": [],
   "source": [
    "import pandas as pd\n",
    "import numpy as np\n",
    "import pyarrow.parquet as pq\n",
    "from datetime import datetime\n",
    "import re\n",
    "from sklearn.preprocessing import LabelEncoder\n",
    "from sklearn.metrics.pairwise import cosine_similarity"
   ]
  },
  {
   "cell_type": "code",
   "execution_count": 47,
   "metadata": {},
   "outputs": [
    {
     "data": {
      "text/plain": [
       "{'gasto_total_usuario': '3437.1',\n",
       " 'Porcentaje_recomendacion': '100',\n",
       " 'Items_usuario': '277'}"
      ]
     },
     "execution_count": 47,
     "metadata": {},
     "output_type": "execute_result"
    }
   ],
   "source": [
    "def userdata(user_id: str):\n",
    "    user_id = user_id.lower()\n",
    "    tabla = pq.read_table('steam_games', columns=['item_id', 'price'])\n",
    "    df_items = tabla.to_pandas()\n",
    "    tabla = pq.read_table('users_items', columns=['user_id', 'item_id', 'items_count'])\n",
    "    df_users = tabla.to_pandas()\n",
    "    tabla = pq.read_table('user_reviews', columns=['user_id', 'recommend'])\n",
    "    df_reviews = tabla.to_pandas()\n",
    "    #Carga de datos de usuario\n",
    "    usuario = df_users.loc[df_users['user_id'] == user_id]\n",
    "    if usuario.empty:\n",
    "        return {\"Error\": \"Usuario inexistente\"}\n",
    "    usuario = usuario.merge(df_items, on='item_id', how='inner')\n",
    "    #Cantidad de dinero gastado por el usuario\n",
    "    gasto = usuario['price'].sum()\n",
    "    gasto = round(gasto, 2)\n",
    "    #Porcentaje de recomendacion de usuario\n",
    "    usuario = usuario.merge(df_reviews, on= 'user_id', how= 'inner')\n",
    "    conteo = usuario['recommend'].value_counts()\n",
    "    true = conteo[True]\n",
    "    porcentaje = (true / len(usuario['recommend'])) * 100\n",
    "    porcentaje = int(porcentaje)\n",
    "    #Cantidad de items consumidos por el usuario\n",
    "    items = usuario.loc[0, 'items_count']\n",
    "    \n",
    "    return {\"gasto_total_usuario\": f\"{gasto}\", \"Porcentaje_recomendacion\": f\"{porcentaje}\", \"Items_usuario\": f\"{items}\"}\n",
    "\n",
    "userdata('76561197970982479')"
   ]
  },
  {
   "cell_type": "code",
   "execution_count": 5,
   "metadata": {},
   "outputs": [
    {
     "data": {
      "text/plain": [
       "{'Cantidad_usuarios_reviews': '16083', 'Porcentaje_recomendacion': '89'}"
      ]
     },
     "execution_count": 5,
     "metadata": {},
     "output_type": "execute_result"
    }
   ],
   "source": [
    "def countreviews(fecha:str):\n",
    "    fecha = fecha.split('-')\n",
    "    desde = fecha[0]\n",
    "    hasta = fecha[1]\n",
    "\n",
    "    numeros = re.findall(r'\\d', desde)#Filtrar numeros de la fecha ingresada\n",
    "    desde = ''.join(numeros)#Crear string con solamente numeros\n",
    "    desde = datetime.strptime(desde, \"%Y%m%d\").date()#Transformar a variable datetime\n",
    "    desde = desde.strftime(\"%Y%m%d\")\n",
    "    numeros = re.findall(r'\\d', hasta)\n",
    "    hasta = ''.join(numeros)\n",
    "    hasta = datetime.strptime(hasta, \"%Y%m%d\").date()\n",
    "    hasta = hasta.strftime(\"%Y%m%d\")\n",
    "    #importar dataset\n",
    "    tabla = pq.read_table('user_reviews', columns=['posted', 'recommend', 'user_id'])\n",
    "    df_reviews = tabla.to_pandas()\n",
    "    #Acceder a dataset entre fechas dadas\n",
    "    reviews = df_reviews.loc[(df_reviews['posted'] >= desde) & (df_reviews['posted'] <= hasta)]\n",
    "    #Cantidad de usuarios\n",
    "    usuarios = reviews['user_id'].nunique()\n",
    "\n",
    "    conteo = reviews['recommend'].value_counts()\n",
    "    true = conteo[True]\n",
    "    porcentaje = (true / len(reviews['recommend'])) * 100\n",
    "    porcentaje = int(porcentaje)\n",
    "\n",
    "    return {\"Cantidad_usuarios_reviews\": f'{usuarios}', \"Porcentaje_recomendacion\": f'{porcentaje}'}\n",
    "\n",
    "countreviews('2005/02/25 - 2014/06/21')"
   ]
  },
  {
   "cell_type": "code",
   "execution_count": 49,
   "metadata": {},
   "outputs": [
    {
     "data": {
      "text/plain": [
       "{'Puesto_ranking_playtime_forever': '15'}"
      ]
     },
     "execution_count": 49,
     "metadata": {},
     "output_type": "execute_result"
    }
   ],
   "source": [
    "def genre(genero: str):\n",
    "    genero = genero.lower()\n",
    "    tabla = pq.read_table('users_items', columns=['item_id', 'playtime_forever'])\n",
    "    df_users = tabla.to_pandas()\n",
    "    tabla = pq.read_table('genres', columns=['item_id', 'genres'])\n",
    "    df_genres = tabla.to_pandas()\n",
    "    genres = df_genres.merge(df_users, on='item_id', how='inner')\n",
    "    ranking = genres.groupby('genres')['playtime_forever'].sum().reset_index()\n",
    "    ranking = ranking.sort_values(by='playtime_forever', ascending=False)\n",
    "    ranking = ranking[ranking['genres'] == genero].iloc[0]\n",
    "    puesto = ranking.name\n",
    "\n",
    "    return {\"Puesto_ranking_playtime_forever\": f'{puesto}'}\n",
    "\n",
    "genre('Simulation')"
   ]
  },
  {
   "cell_type": "code",
   "execution_count": 117,
   "metadata": {},
   "outputs": [
    {
     "data": {
      "text/plain": [
       "[{'1° puesto': {'id': 'sp3ctre',\n",
       "   'url': 'http://steamcommunity.com/id/imascatman'}},\n",
       " {'2° puesto': {'id': 'shinomegami',\n",
       "   'url': 'http://steamcommunity.com/id/pickles_was_here'}},\n",
       " {'3° puesto': {'id': 'rebas_as_f-t',\n",
       "   'url': 'http://steamcommunity.com/profiles/76561198067911521'}},\n",
       " {'4° puesto': {'id': 'terminally-chill',\n",
       "   'url': 'http://steamcommunity.com/profiles/76561198074185082'}},\n",
       " {'5° puesto': {'id': 'downsyndromekid',\n",
       "   'url': 'http://steamcommunity.com/id/consider_suicide'}}]"
      ]
     },
     "execution_count": 117,
     "metadata": {},
     "output_type": "execute_result"
    }
   ],
   "source": [
    "def userforgenre(genero: str):\n",
    "    genero = genero.lower()\n",
    "    tabla = pq.read_table('users_items', columns=['item_id', 'playtime_forever', 'user_id', 'user_url'])\n",
    "    df_users = tabla.to_pandas()\n",
    "    tabla = pq.read_table('genres', columns=['item_id', 'genres'])\n",
    "    df_genres = tabla.to_pandas()\n",
    "    df_genres = df_genres[df_genres[\"genres\"].str.contains(genero, case=False)]\n",
    "    df_genres = df_genres.merge(df_users, on='item_id', how='inner')\n",
    "    ranking = df_genres.groupby('user_id')['playtime_forever'].sum().reset_index()\n",
    "    ranking['user_url'] = df_genres['user_url']\n",
    "    ranking = ranking.sort_values(by='playtime_forever', ascending=False)\n",
    "    ranking = ranking[['user_id', 'user_url']].head(5).reset_index()\n",
    "    lista_dicc = []\n",
    "    for i in range(len(ranking)):\n",
    "        diccionario = {f\"{i + 1}° puesto\": {\"id\": f\"{ranking.loc[i, 'user_id']}\", \"url\": f\"{ranking.loc[i, 'user_url']}\"}}\n",
    "        lista_dicc.append(diccionario)\n",
    "    return lista_dicc\n",
    "\n",
    "userforgenre('Action')"
   ]
  },
  {
   "cell_type": "code",
   "execution_count": 113,
   "metadata": {},
   "outputs": [
    {
     "data": {
      "text/plain": [
       "[{'anio': '2015', '%_recomendacion': '0'},\n",
       " {'anio': '2016', '%_recomendacion': '0'},\n",
       " {'anio': '2017', '%_recomendacion': '66'}]"
      ]
     },
     "execution_count": 113,
     "metadata": {},
     "output_type": "execute_result"
    }
   ],
   "source": [
    "def developer(desarrollador: str):\n",
    "    desarrollador = desarrollador.lower()\n",
    "    tabla = pq.read_table('developer', columns=['item_id', 'developer'])\n",
    "    df_developer = tabla.to_pandas()\n",
    "    tabla = pq.read_table('steam_games', columns=['item_id', 'release_date', 'free'])\n",
    "    df_items = tabla.to_pandas()\n",
    "    df_developer = df_developer[df_developer[\"developer\"].str.contains(desarrollador, case=False)]\n",
    "    df_developer = df_developer.merge(df_items, on='item_id', how='inner')\n",
    "    items = df_developer['item_id'].unique()\n",
    "    items = df_developer['item_id'].value_counts()\n",
    "    items = int(items.iloc[0])\n",
    "    df_developer = df_developer.groupby('release_date')['free'].value_counts(normalize=True).unstack(fill_value=0).reset_index()\n",
    "    df_developer['porcentaje'] = df_developer[True] / (df_developer[True] + df_developer[False]) * 100\n",
    "    df_developer['porcentaje'] = df_developer['porcentaje'].astype(int)\n",
    "    developer = []\n",
    "    for i in range(len(df_developer)):\n",
    "        dicc = {'anio': f\"{df_developer.loc[i, 'release_date']}\", '%_recomendacion': f\"{df_developer.loc[i, 'porcentaje']}\"}\n",
    "        developer.append(dicc)\n",
    "    \n",
    "    \n",
    "    return developer\n",
    "    \n",
    "developer('konami')"
   ]
  },
  {
   "cell_type": "code",
   "execution_count": 156,
   "metadata": {},
   "outputs": [
    {
     "name": "stderr",
     "output_type": "stream",
     "text": [
      "C:\\Users\\eduen\\AppData\\Local\\Temp\\ipykernel_384\\1811950590.py:16: FutureWarning: Calling int on a single element Series is deprecated and will raise a TypeError in the future. Use int(ser.iloc[0]) instead\n",
      "  return {\"Negativo\": f\"{int(negativo)}\", \"Neutral\": f\"{int(neutral)}\", \"Positivo\": f\"{int(positivo)}\"}\n"
     ]
    },
    {
     "data": {
      "text/plain": [
       "{'Negativo': '1541', 'Neutral': '1398', 'Positivo': '3680'}"
      ]
     },
     "execution_count": 156,
     "metadata": {},
     "output_type": "execute_result"
    }
   ],
   "source": [
    "def sentiment_analysis(anio: int):\n",
    "    tabla = pq.read_table('steam_games', columns=['item_id', 'release_date'])\n",
    "    df_items = tabla.to_pandas()\n",
    "    tabla = pq.read_table('user_reviews', columns=['item_id', 'sentiment_analysis'])\n",
    "    df_reviews = tabla.to_pandas()\n",
    "    df_items = df_items.merge(df_reviews, on='item_id', how='inner')\n",
    "    df_items = df_items[df_items['release_date'] == anio]\n",
    "    df_items = df_items.groupby('release_date')['sentiment_analysis'].value_counts().reset_index()\n",
    "    positivo = df_items[df_items['sentiment_analysis'] == 2]\n",
    "    positivo = positivo['count']\n",
    "    neutral = df_items[df_items['sentiment_analysis'] == 1]\n",
    "    neutral = neutral['count']\n",
    "    negativo = df_items[df_items['sentiment_analysis'] == 0]\n",
    "    negativo = negativo['count']\n",
    "\n",
    "    return {\"Negativo\": f\"{int(negativo)}\", \"Neutral\": f\"{int(neutral)}\", \"Positivo\": f\"{int(positivo)}\"}\n",
    "\n",
    "sentiment_analysis(2015)"
   ]
  },
  {
   "cell_type": "code",
   "execution_count": 199,
   "metadata": {},
   "outputs": [
    {
     "data": {
      "text/plain": [
       "{'lista recomendada': ['lost summoner kitty',\n",
       "  'lost summoner kitty',\n",
       "  'lost summoner kitty',\n",
       "  'lost summoner kitty',\n",
       "  'island build masters']}"
      ]
     },
     "execution_count": 199,
     "metadata": {},
     "output_type": "execute_result"
    }
   ],
   "source": [
    "def recomendacion_juego(id_producto):\n",
    "    tabla = pq.read_table('steam_games')\n",
    "    df_items = tabla.to_pandas()\n",
    "    tabla = pq.read_table('genres')\n",
    "    df_genres = tabla.to_pandas()\n",
    "\n",
    "    df_items = df_items.merge(df_genres, on='item_id', how='inner')\n",
    "   \n",
    "    producto = df_items[df_items['item_id'] == id_producto]\n",
    "    df_items = df_items[df_items['item_id'] != id_producto]\n",
    "    \n",
    "    primer_coincidencia_df = producto.iloc[0]\n",
    "    \n",
    "    \n",
    "    if primer_coincidencia_df.empty:\n",
    "        error = {'error': \"f'{id_producto} parametro incorrecto\"}\n",
    "        return error \n",
    "\n",
    "    anio = primer_coincidencia_df['release_date']\n",
    "\n",
    "    #Reducir el df a los items del mismo año de lanzamiento (por limitaciones de memoria ram)\n",
    "    df_items = df_items[df_items['release_date'] == anio]\n",
    "\n",
    "    #Aplicar label encoding a df_reducido\n",
    "    label_encoder = LabelEncoder()\n",
    "    df_encoded = df_items.apply(label_encoder.fit_transform)\n",
    "\n",
    "    #Similitud de coseno a df_encoded\n",
    "    similitud = cosine_similarity(df_encoded)\n",
    "\n",
    "    #Debido a que el indice del dato de entrada es 0, separamos la primera fila de la matriz en un array\n",
    "\n",
    "    array_similitud = similitud[0]\n",
    "\n",
    "    #Obtener los indices de los 6 valores mas altos\n",
    "    indices = np.argsort(-array_similitud)[:6]\n",
    "    #obtener titulos\n",
    "    lista_title = df_items['title']\n",
    "\n",
    "    #Creamos una lista vacia 'respuesta', iteramos los indices y agregamos el valor de lista_title para cada indice\n",
    "    respuesta = []\n",
    "\n",
    "    for elemento in indices:\n",
    "        respuesta.append(lista_title.iloc[elemento])\n",
    "\n",
    "    respuesta = respuesta[1:]\n",
    "\n",
    "    return {'lista recomendada': respuesta}\n",
    "\n",
    "recomendacion_juego(643980)"
   ]
  },
  {
   "cell_type": "code",
   "execution_count": null,
   "metadata": {},
   "outputs": [],
   "source": [
    "def recomendacion_usuario(id_usuario):"
   ]
  }
 ],
 "metadata": {
  "kernelspec": {
   "display_name": "venv",
   "language": "python",
   "name": "python3"
  },
  "language_info": {
   "codemirror_mode": {
    "name": "ipython",
    "version": 3
   },
   "file_extension": ".py",
   "mimetype": "text/x-python",
   "name": "python",
   "nbconvert_exporter": "python",
   "pygments_lexer": "ipython3",
   "version": "3.11.1"
  },
  "orig_nbformat": 4
 },
 "nbformat": 4,
 "nbformat_minor": 2
}
