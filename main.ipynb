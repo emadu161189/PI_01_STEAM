{
 "cells": [
  {
   "cell_type": "code",
   "execution_count": 1,
   "metadata": {},
   "outputs": [],
   "source": [
    "import pandas as pd\n",
    "import numpy as np\n",
    "import pyarrow.parquet as pq\n",
    "from datetime import datetime\n",
    "import re"
   ]
  },
  {
   "cell_type": "code",
   "execution_count": 5,
   "metadata": {},
   "outputs": [
    {
     "data": {
      "text/plain": [
       "{'gasto_total_usuario': '3437.1',\n",
       " 'Porcentaje_recomendacion': '100',\n",
       " 'Items_usuario': '277'}"
      ]
     },
     "execution_count": 5,
     "metadata": {},
     "output_type": "execute_result"
    }
   ],
   "source": [
    "def userdata(user_id: str):\n",
    "    user_id = user_id.lower()\n",
    "    tabla = pq.read_table('steam_games', columns=['item_id', 'price'])\n",
    "    df_items = tabla.to_pandas()\n",
    "    tabla = pq.read_table('users_items', columns=['user_id', 'item_id', 'items_count'])\n",
    "    df_users = tabla.to_pandas()\n",
    "    tabla = pq.read_table('user_reviews', columns=['user_id', 'recommend'])\n",
    "    df_reviews = tabla.to_pandas()\n",
    "    #Carga de datos de usuario\n",
    "    usuario = df_users.loc[df_users['user_id'] == user_id]\n",
    "    if usuario.empty:\n",
    "        return {\"Error\": \"Usuario inexistente\"}\n",
    "    usuario = usuario.merge(df_items, on='item_id', how='inner')\n",
    "    #Cantidad de dinero gastado por el usuario\n",
    "    gasto = usuario['price'].sum()\n",
    "    gasto = round(gasto, 2)\n",
    "    #Porcentaje de recomendacion de usuario\n",
    "    usuario = usuario.merge(df_reviews, on= 'user_id', how= 'inner')\n",
    "    conteo = usuario['recommend'].value_counts()\n",
    "    true = conteo[True]\n",
    "    porcentaje = (true / len(usuario['recommend'])) * 100\n",
    "    porcentaje = int(porcentaje)\n",
    "    #Cantidad de items consumidos por el usuario\n",
    "    items = usuario.loc[0, 'items_count']\n",
    "    \n",
    "    return {\"gasto_total_usuario\": f\"{gasto}\", \"Porcentaje_recomendacion\": f\"{porcentaje}\", \"Items_usuario\": f\"{items}\"}\n",
    "\n",
    "userdata('76561197970982479')"
   ]
  },
  {
   "cell_type": "code",
   "execution_count": 8,
   "metadata": {},
   "outputs": [
    {
     "data": {
      "text/plain": [
       "{'Cantidad_usuarios_reviews': '16083', 'Porcentaje_recomendacion': '89'}"
      ]
     },
     "execution_count": 8,
     "metadata": {},
     "output_type": "execute_result"
    }
   ],
   "source": [
    "def countreviews(desde: str, hasta: str):\n",
    "    numeros = re.findall(r'\\d', desde)#Filtrar numeros de la fecha ingresada\n",
    "    desde = ''.join(numeros)#Crear string con solamente numeros\n",
    "    desde = datetime.strptime(desde, \"%Y%m%d\").date()#Transformar a variable datetime\n",
    "    desde = desde.strftime(\"%Y%m%d\")\n",
    "    numeros = re.findall(r'\\d', hasta)\n",
    "    hasta = ''.join(numeros)\n",
    "    hasta = datetime.strptime(hasta, \"%Y%m%d\").date()\n",
    "    hasta = hasta.strftime(\"%Y%m%d\")\n",
    "    #importar dataset\n",
    "    tabla = pq.read_table('user_reviews', columns=['posted', 'recommend', 'user_id'])\n",
    "    df_reviews = tabla.to_pandas()\n",
    "    #Acceder a dataset entre fechas dadas\n",
    "    reviews = df_reviews.loc[(df_reviews['posted'] >= desde) & (df_reviews['posted'] <= hasta)]\n",
    "    #Cantidad de usuarios\n",
    "    usuarios = reviews['user_id'].nunique()\n",
    "\n",
    "    conteo = reviews['recommend'].value_counts()\n",
    "    true = conteo[True]\n",
    "    porcentaje = (true / len(reviews['recommend'])) * 100\n",
    "    porcentaje = int(porcentaje)\n",
    "\n",
    "    return {\"Cantidad_usuarios_reviews\": f'{usuarios}', \"Porcentaje_recomendacion\": f'{porcentaje}'}\n",
    "\n",
    "countreviews('2005/02/25', '2014/06/21')"
   ]
  },
  {
   "cell_type": "code",
   "execution_count": null,
   "metadata": {},
   "outputs": [],
   "source": [
    "def genre(genero: str):\n",
    "    \n",
    "\n",
    "    return"
   ]
  },
  {
   "cell_type": "code",
   "execution_count": null,
   "metadata": {},
   "outputs": [],
   "source": [
    "def userforgenre(genero: str):"
   ]
  },
  {
   "cell_type": "code",
   "execution_count": null,
   "metadata": {},
   "outputs": [],
   "source": [
    "def developer(desarrollador: str):"
   ]
  },
  {
   "cell_type": "code",
   "execution_count": null,
   "metadata": {},
   "outputs": [],
   "source": [
    "def sentiment_analysis(anio: int):"
   ]
  },
  {
   "cell_type": "code",
   "execution_count": null,
   "metadata": {},
   "outputs": [],
   "source": [
    "def recomendacion_juego(id_producto):"
   ]
  },
  {
   "cell_type": "code",
   "execution_count": null,
   "metadata": {},
   "outputs": [],
   "source": [
    "def recomendacion_usuario(id_usuario):"
   ]
  }
 ],
 "metadata": {
  "kernelspec": {
   "display_name": "venv",
   "language": "python",
   "name": "python3"
  },
  "language_info": {
   "codemirror_mode": {
    "name": "ipython",
    "version": 3
   },
   "file_extension": ".py",
   "mimetype": "text/x-python",
   "name": "python",
   "nbconvert_exporter": "python",
   "pygments_lexer": "ipython3",
   "version": "3.11.1"
  },
  "orig_nbformat": 4
 },
 "nbformat": 4,
 "nbformat_minor": 2
}
